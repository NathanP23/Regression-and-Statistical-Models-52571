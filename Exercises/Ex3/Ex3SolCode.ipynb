{
 "cells": [
  {
   "cell_type": "markdown",
   "id": "4a939aaf",
   "metadata": {},
   "source": [
    "### 0 Imports & global set-up"
   ]
  },
  {
   "cell_type": "code",
   "execution_count": 1,
   "id": "38d9b530",
   "metadata": {},
   "outputs": [],
   "source": [
    "import numpy as np\n",
    "import pandas as pd\n",
    "from numpy.linalg import inv\n",
    "from scipy import stats\n",
    "import matplotlib.pyplot as plt"
   ]
  },
  {
   "cell_type": "markdown",
   "id": "810a5681",
   "metadata": {},
   "source": [
    "## Part (a) Unbiasedness & minimal variance of OLS\n",
    "\n",
    "1. **Unbiasedness**\n",
    "\n",
    "   In matrix form\n",
    "\n",
    "   $$\n",
    "   \\widehat\\beta_{\\text{OLS}}\n",
    "      =(X^{\\mathsf T}X)^{-1}X^{\\mathsf T}Y\n",
    "      =(X^{\\mathsf T}X)^{-1}X^{\\mathsf T}(X\\beta+\\varepsilon)\n",
    "      =\\beta+(X^{\\mathsf T}X)^{-1}X^{\\mathsf T}\\varepsilon .\n",
    "   $$\n",
    "\n",
    "   With $\\mathbb E[\\varepsilon\\mid X]=0$,\n",
    "\n",
    "   $$\n",
    "   \\mathbb E[\\widehat\\beta_{\\text{OLS}}\\mid X]=\\beta .\n",
    "   $$\n",
    "\n",
    "2. **Gauss–Markov (BLUE) property**\n",
    "   Under the homoskedastic/uncorrelated-error assumptions,\n",
    "\n",
    "   $$\n",
    "   \\operatorname{Var}(\\widehat\\beta\\mid X)=\\sigma^{2}(X^{\\mathsf T}X)^{-1},\n",
    "   $$\n",
    "\n",
    "   and any other *linear* unbiased estimator has covariance matrix minus this one positive-semidefinite ⇒ OLS has the smallest variance component-wise."
   ]
  },
  {
   "cell_type": "markdown",
   "id": "aa07cac1",
   "metadata": {},
   "source": [
    "## Generate one synthetic data-set"
   ]
  },
  {
   "cell_type": "code",
   "execution_count": 2,
   "id": "d0ee414c",
   "metadata": {},
   "outputs": [],
   "source": [
    "# problem constants\n",
    "np.random.seed(42)\n",
    "n     = 500                   # sample size\n",
    "mu    = np.array([0,1,1,2,2]) # E[X]\n",
    "Sigma = np.eye(5)             # Cov[X]\n",
    "beta  = np.array([2,-3,2,1,6,-2])  # β0 … β5\n",
    "σ2    = 1.0\n",
    "\n",
    "# draw predictors and build design matrix\n",
    "X_raw = np.random.multivariate_normal(mu, Sigma, size=n)\n",
    "X     = np.hstack([np.ones((n,1)), X_raw])\n",
    "\n",
    "# generate homoskedastic noise and response\n",
    "eps = np.random.normal(0, σ2**0.5, size=n)\n",
    "y   = X @ beta + eps\n"
   ]
  },
  {
   "cell_type": "markdown",
   "id": "3c735dd3",
   "metadata": {},
   "source": [
    "## Compute one OLS estimate"
   ]
  },
  {
   "cell_type": "code",
   "execution_count": 3,
   "id": "4ec6a21b",
   "metadata": {},
   "outputs": [
    {
     "data": {
      "application/vnd.microsoft.datawrangler.viewer.v0+json": {
       "columns": [
        {
         "name": "index",
         "rawType": "object",
         "type": "string"
        },
        {
         "name": "0",
         "rawType": "float64",
         "type": "float"
        }
       ],
       "ref": "60d47c2f-849d-4610-956c-a12762b4a4b9",
       "rows": [
        [
         "β0",
         "2.1355574589176682"
        ],
        [
         "β1",
         "-2.988847515733137"
        ],
        [
         "β2",
         "1.9907750141428533"
        ],
        [
         "β3",
         "0.9578529506019895"
        ],
        [
         "β4",
         "5.950869651258854"
        ],
        [
         "β5",
         "-1.9816474993123836"
        ]
       ],
       "shape": {
        "columns": 1,
        "rows": 6
       }
      },
      "text/plain": [
       "β0    2.135557\n",
       "β1   -2.988848\n",
       "β2    1.990775\n",
       "β3    0.957853\n",
       "β4    5.950870\n",
       "β5   -1.981647\n",
       "dtype: float64"
      ]
     },
     "execution_count": 3,
     "metadata": {},
     "output_type": "execute_result"
    }
   ],
   "source": [
    "beta_hat = inv(X.T @ X) @ X.T @ y\n",
    "pd.Series(beta_hat, index=[f\"β{i}\" for i in range(6)])"
   ]
  },
  {
   "cell_type": "markdown",
   "id": "852a0567",
   "metadata": {},
   "source": [
    "## Monte-Carlo loop (i guess)"
   ]
  },
  {
   "cell_type": "code",
   "execution_count": 4,
   "id": "77ac0bf8",
   "metadata": {},
   "outputs": [
    {
     "data": {
      "application/vnd.microsoft.datawrangler.viewer.v0+json": {
       "columns": [
        {
         "name": "index",
         "rawType": "int64",
         "type": "integer"
        },
        {
         "name": "β0",
         "rawType": "float64",
         "type": "float"
        },
        {
         "name": "β1",
         "rawType": "float64",
         "type": "float"
        },
        {
         "name": "β2",
         "rawType": "float64",
         "type": "float"
        },
        {
         "name": "β3",
         "rawType": "float64",
         "type": "float"
        },
        {
         "name": "β4",
         "rawType": "float64",
         "type": "float"
        },
        {
         "name": "β5",
         "rawType": "float64",
         "type": "float"
        }
       ],
       "ref": "9d083488-83f7-4eb3-8eb1-997165007989",
       "rows": [
        [
         "0",
         "1.9973030990731553",
         "-3.000385505964248",
         "2.000536606740409",
         "1.000252404870368",
         "5.9999823840691064",
         "-1.9987714255087066"
        ]
       ],
       "shape": {
        "columns": 6,
        "rows": 1
       }
      },
      "text/html": [
       "<div>\n",
       "<style scoped>\n",
       "    .dataframe tbody tr th:only-of-type {\n",
       "        vertical-align: middle;\n",
       "    }\n",
       "\n",
       "    .dataframe tbody tr th {\n",
       "        vertical-align: top;\n",
       "    }\n",
       "\n",
       "    .dataframe thead th {\n",
       "        text-align: right;\n",
       "    }\n",
       "</style>\n",
       "<table border=\"1\" class=\"dataframe\">\n",
       "  <thead>\n",
       "    <tr style=\"text-align: right;\">\n",
       "      <th></th>\n",
       "      <th>β0</th>\n",
       "      <th>β1</th>\n",
       "      <th>β2</th>\n",
       "      <th>β3</th>\n",
       "      <th>β4</th>\n",
       "      <th>β5</th>\n",
       "    </tr>\n",
       "  </thead>\n",
       "  <tbody>\n",
       "    <tr>\n",
       "      <th>0</th>\n",
       "      <td>1.997303</td>\n",
       "      <td>-3.000386</td>\n",
       "      <td>2.000537</td>\n",
       "      <td>1.000252</td>\n",
       "      <td>5.999982</td>\n",
       "      <td>-1.998771</td>\n",
       "    </tr>\n",
       "  </tbody>\n",
       "</table>\n",
       "</div>"
      ],
      "text/plain": [
       "         β0        β1        β2        β3        β4        β5\n",
       "0  1.997303 -3.000386  2.000537  1.000252  5.999982 -1.998771"
      ]
     },
     "metadata": {},
     "output_type": "display_data"
    },
    {
     "name": "stdout",
     "output_type": "stream",
     "text": [
      "\n",
      "Empirical covariance of β̂ (first 4×4 block):\n"
     ]
    },
    {
     "data": {
      "application/vnd.microsoft.datawrangler.viewer.v0+json": {
       "columns": [
        {
         "name": "index",
         "rawType": "object",
         "type": "string"
        },
        {
         "name": "β0",
         "rawType": "float64",
         "type": "float"
        },
        {
         "name": "β1",
         "rawType": "float64",
         "type": "float"
        },
        {
         "name": "β2",
         "rawType": "float64",
         "type": "float"
        },
        {
         "name": "β3",
         "rawType": "float64",
         "type": "float"
        }
       ],
       "ref": "45e538cd-cf2e-450e-afa9-fa530b6a2ef1",
       "rows": [
        [
         "β0",
         "0.022566888031091394",
         "-4.9117852194522676e-05",
         "-0.002019364082653204",
         "-0.00206532757132323"
        ],
        [
         "β1",
         "-4.9117852194522676e-05",
         "0.001997660334632151",
         "-2.181445664183348e-05",
         "-7.310162946608916e-06"
        ],
        [
         "β2",
         "-0.002019364082653204",
         "-2.181445664183348e-05",
         "0.0020268945203861964",
         "9.343124630794476e-06"
        ],
        [
         "β3",
         "-0.00206532757132323",
         "-7.310162946608916e-06",
         "9.343124630794476e-06",
         "0.002050386981692389"
        ]
       ],
       "shape": {
        "columns": 4,
        "rows": 4
       }
      },
      "text/html": [
       "<div>\n",
       "<style scoped>\n",
       "    .dataframe tbody tr th:only-of-type {\n",
       "        vertical-align: middle;\n",
       "    }\n",
       "\n",
       "    .dataframe tbody tr th {\n",
       "        vertical-align: top;\n",
       "    }\n",
       "\n",
       "    .dataframe thead th {\n",
       "        text-align: right;\n",
       "    }\n",
       "</style>\n",
       "<table border=\"1\" class=\"dataframe\">\n",
       "  <thead>\n",
       "    <tr style=\"text-align: right;\">\n",
       "      <th></th>\n",
       "      <th>β0</th>\n",
       "      <th>β1</th>\n",
       "      <th>β2</th>\n",
       "      <th>β3</th>\n",
       "    </tr>\n",
       "  </thead>\n",
       "  <tbody>\n",
       "    <tr>\n",
       "      <th>β0</th>\n",
       "      <td>0.022567</td>\n",
       "      <td>-0.000049</td>\n",
       "      <td>-0.002019</td>\n",
       "      <td>-0.002065</td>\n",
       "    </tr>\n",
       "    <tr>\n",
       "      <th>β1</th>\n",
       "      <td>-0.000049</td>\n",
       "      <td>0.001998</td>\n",
       "      <td>-0.000022</td>\n",
       "      <td>-0.000007</td>\n",
       "    </tr>\n",
       "    <tr>\n",
       "      <th>β2</th>\n",
       "      <td>-0.002019</td>\n",
       "      <td>-0.000022</td>\n",
       "      <td>0.002027</td>\n",
       "      <td>0.000009</td>\n",
       "    </tr>\n",
       "    <tr>\n",
       "      <th>β3</th>\n",
       "      <td>-0.002065</td>\n",
       "      <td>-0.000007</td>\n",
       "      <td>0.000009</td>\n",
       "      <td>0.002050</td>\n",
       "    </tr>\n",
       "  </tbody>\n",
       "</table>\n",
       "</div>"
      ],
      "text/plain": [
       "          β0        β1        β2        β3\n",
       "β0  0.022567 -0.000049 -0.002019 -0.002065\n",
       "β1 -0.000049  0.001998 -0.000022 -0.000007\n",
       "β2 -0.002019 -0.000022  0.002027  0.000009\n",
       "β3 -0.002065 -0.000007  0.000009  0.002050"
      ]
     },
     "metadata": {},
     "output_type": "display_data"
    }
   ],
   "source": [
    "n_rep = 10_000\n",
    "beta_hats = np.empty((n_rep, 6))\n",
    "\n",
    "for r in range(n_rep):\n",
    "    X_raw = np.random.multivariate_normal(mu, Sigma, size=n)\n",
    "    X     = np.hstack([np.ones((n,1)), X_raw])\n",
    "    eps   = np.random.normal(0, σ2**0.5, size=n)\n",
    "    y     = X @ beta + eps\n",
    "    beta_hats[r] = inv(X.T @ X) @ X.T @ y\n",
    "\n",
    "# empirical mean & covariance\n",
    "mean_hat = beta_hats.mean(axis=0)\n",
    "cov_hat  = np.cov(beta_hats, rowvar=False)\n",
    "\n",
    "display(pd.DataFrame([mean_hat], columns=[f\"β{i}\" for i in range(6)]))\n",
    "print(\"\\nEmpirical covariance of β̂ (first 4×4 block):\")\n",
    "display(pd.DataFrame(cov_hat[:4,:4],\n",
    "                     index=[f\"β{i}\" for i in range(4)],\n",
    "                     columns=[f\"β{i}\" for i in range(4)]))"
   ]
  },
  {
   "cell_type": "markdown",
   "id": "26e263b0",
   "metadata": {},
   "source": [
    "**Interpretation**\n",
    "\n",
    "* The empirical means lie extremely close to the true coefficients\n",
    "  $(2,-3,2,1,6,-2)$ ⇒ confirmation of unbiasedness.\n",
    "* The empirical covariance matrix matches the theoretical\n",
    "  $\\sigma^{2}(X^{\\mathsf T}X)^{-1}$ once averaged across replication"
   ]
  },
  {
   "cell_type": "markdown",
   "id": "d71a7f43",
   "metadata": {},
   "source": [
    "## Two noise scenarios with heteroskedastic / heavy-tailed errors\n",
    "\n",
    "### 1.  $\\varepsilon_i \\sim \\mathcal N\\!\\bigl(0,\\lVert X_i\\rVert^{2}\\bigr)$  ▶ Run\n"
   ]
  },
  {
   "cell_type": "code",
   "execution_count": 5,
   "id": "f86ffb21",
   "metadata": {},
   "outputs": [
    {
     "name": "stdout",
     "output_type": "stream",
     "text": [
      "Bias (heteroskedastic case):\n"
     ]
    },
    {
     "data": {
      "application/vnd.microsoft.datawrangler.viewer.v0+json": {
       "columns": [
        {
         "name": "index",
         "rawType": "object",
         "type": "string"
        },
        {
         "name": "0",
         "rawType": "float64",
         "type": "float"
        }
       ],
       "ref": "5f0600e7-fb69-43fd-8ef4-51a1162004b4",
       "rows": [
        [
         "β0",
         "0.006447692052521603"
        ],
        [
         "β1",
         "0.004287763382726073"
        ],
        [
         "β2",
         "0.0007596694405451743"
        ],
        [
         "β3",
         "-0.001566565218817928"
        ],
        [
         "β4",
         "-0.0023379117663155924"
        ],
        [
         "β5",
         "-0.0011428031500857472"
        ]
       ],
       "shape": {
        "columns": 1,
        "rows": 6
       }
      },
      "text/plain": [
       "β0    0.006448\n",
       "β1    0.004288\n",
       "β2    0.000760\n",
       "β3   -0.001567\n",
       "β4   -0.002338\n",
       "β5   -0.001143\n",
       "dtype: float64"
      ]
     },
     "metadata": {},
     "output_type": "display_data"
    }
   ],
   "source": [
    "def beta_hat_hetero():\n",
    "    X_raw = np.random.multivariate_normal(mu, Sigma, size=n)\n",
    "    X     = np.hstack([np.ones((n,1)), X_raw])\n",
    "    sig_i = np.linalg.norm(X_raw, axis=1)       # std-dev depends on ‖X_i‖\n",
    "    eps   = np.random.normal(0, sig_i)\n",
    "    y     = X @ beta + eps\n",
    "    return inv(X.T @ X) @ X.T @ y\n",
    "\n",
    "beta_hetero = np.vstack([beta_hat_hetero() for _ in range(n_rep)])\n",
    "print(\"Bias (heteroskedastic case):\")\n",
    "display(pd.Series(beta_hetero.mean(0) - beta,\n",
    "                  index=[f\"β{i}\" for i in range(6)]))"
   ]
  },
  {
   "cell_type": "markdown",
   "id": "8ce6ae10",
   "metadata": {},
   "source": [
    "### 2. Heavy-tailed Cauchy noise $\\varepsilon_i\\sim t_{1}(0,1)$  ▶ Run"
   ]
  },
  {
   "cell_type": "code",
   "execution_count": 6,
   "id": "c360242d",
   "metadata": {},
   "outputs": [
    {
     "name": "stdout",
     "output_type": "stream",
     "text": [
      "Std-error explosion with Cauchy noise (MSE):\n"
     ]
    },
    {
     "data": {
      "application/vnd.microsoft.datawrangler.viewer.v0+json": {
       "columns": [
        {
         "name": "index",
         "rawType": "object",
         "type": "string"
        },
        {
         "name": "0",
         "rawType": "float64",
         "type": "float"
        }
       ],
       "ref": "3fe05ae0-50dd-4094-9990-45d6fe00954f",
       "rows": [
        [
         "β0",
         "193317.74334233673"
        ],
        [
         "β1",
         "2256.837842517245"
        ],
        [
         "β2",
         "7164.076688750691"
        ],
        [
         "β3",
         "1365.0504493379633"
        ],
        [
         "β4",
         "9633.882543632119"
        ],
        [
         "β5",
         "2678.1727422971694"
        ]
       ],
       "shape": {
        "columns": 1,
        "rows": 6
       }
      },
      "text/plain": [
       "β0    193317.743342\n",
       "β1      2256.837843\n",
       "β2      7164.076689\n",
       "β3      1365.050449\n",
       "β4      9633.882544\n",
       "β5      2678.172742\n",
       "dtype: float64"
      ]
     },
     "metadata": {},
     "output_type": "display_data"
    }
   ],
   "source": [
    "\n",
    "def beta_hat_cauchy():\n",
    "    X_raw = np.random.multivariate_normal(mu, Sigma, size=n)\n",
    "    X     = np.hstack([np.ones((n,1)), X_raw])\n",
    "    eps   = stats.cauchy.rvs(size=n)   # df = 1\n",
    "    y     = X @ beta + eps\n",
    "    return inv(X.T @ X) @ X.T @ y\n",
    "\n",
    "beta_cauchy = np.vstack([beta_hat_cauchy() for _ in range(n_rep)])\n",
    "print(\"Std-error explosion with Cauchy noise (MSE):\")\n",
    "mse = ((beta_cauchy - beta)**2).mean(0)\n",
    "display(pd.Series(mse, index=[f\"β{i}\" for i in range(6)]))\n"
   ]
  },
  {
   "cell_type": "markdown",
   "id": "4733493f",
   "metadata": {},
   "source": [
    "*With heteroskedastic errors* OLS is still unbiased but its variance is larger;\n",
    "*with Cauchy errors* the second moment of the noise is infinite, causing the OLS variance (and MSE) to blow up."
   ]
  }
 ],
 "metadata": {
  "kernelspec": {
   "display_name": ".vnev",
   "language": "python",
   "name": "python3"
  },
  "language_info": {
   "codemirror_mode": {
    "name": "ipython",
    "version": 3
   },
   "file_extension": ".py",
   "mimetype": "text/x-python",
   "name": "python",
   "nbconvert_exporter": "python",
   "pygments_lexer": "ipython3",
   "version": "3.13.0"
  }
 },
 "nbformat": 4,
 "nbformat_minor": 5
}
